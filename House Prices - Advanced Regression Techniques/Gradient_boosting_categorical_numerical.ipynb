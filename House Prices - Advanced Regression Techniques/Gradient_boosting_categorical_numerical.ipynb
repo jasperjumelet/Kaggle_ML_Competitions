{
 "cells": [
  {
   "cell_type": "code",
   "execution_count": 34,
   "metadata": {},
   "outputs": [],
   "source": [
    "import pandas as pd\n",
    "import seaborn as sns\n",
    "import matplotlib.pyplot as plt\n",
    "from dython.nominal import associations\n",
    "import numpy as np\n",
    "import plotly.express as px\n",
    "\n",
    "import warnings\n",
    "# Suppresses FutureWarning \n",
    "warnings.filterwarnings(\"ignore\", category=FutureWarning)\n",
    "\n",
    "df = pd.read_csv('train.csv')"
   ]
  },
  {
   "cell_type": "markdown",
   "metadata": {},
   "source": [
    "Filtering numeric and categorical features"
   ]
  },
  {
   "cell_type": "code",
   "execution_count": 35,
   "metadata": {},
   "outputs": [],
   "source": [
    "df.columns\n",
    "\n",
    "target_col = \"SalePrice\""
   ]
  },
  {
   "cell_type": "code",
   "execution_count": 36,
   "metadata": {},
   "outputs": [
    {
     "data": {
      "text/plain": [
       "0       7\n",
       "1       6\n",
       "2       7\n",
       "3       7\n",
       "4       8\n",
       "       ..\n",
       "1455    6\n",
       "1456    6\n",
       "1457    7\n",
       "1458    5\n",
       "1459    5\n",
       "Name: OverallQual, Length: 1460, dtype: int64"
      ]
     },
     "execution_count": 36,
     "metadata": {},
     "output_type": "execute_result"
    }
   ],
   "source": [
    "df[\"OverallQual\"]"
   ]
  },
  {
   "cell_type": "code",
   "execution_count": 37,
   "metadata": {},
   "outputs": [],
   "source": [
    "num_cols = df.drop([\"Id\"], axis=1).select_dtypes(exclude=\"object\").columns.tolist()\n",
    "cat_cols = df.drop([\"Id\", \"SalePrice\"], axis=1).select_dtypes(include=\"object\").columns.tolist()"
   ]
  },
  {
   "cell_type": "markdown",
   "metadata": {},
   "source": [
    "Get correlation of entire dataframe (this was a nice idea but is replaced by code below since making a correlation matrix with categorical values produce BIAS when trying to remove highly correlated columns, so only use numerical cols when making a correlation matrix)"
   ]
  },
  {
   "cell_type": "code",
   "execution_count": 38,
   "metadata": {},
   "outputs": [],
   "source": [
    "\n",
    "ass = associations(df, plot=False)\n",
    "correlations = ass['corr']\n",
    "\n",
    "# Replace diagonal and upper triangular elements with Nan to exlude self correlation\n",
    "df_corr = correlations.where(~np.triu(np.ones(correlations.shape), k=1).astype(bool))"
   ]
  },
  {
   "cell_type": "markdown",
   "metadata": {},
   "source": [
    "View highest correlations"
   ]
  },
  {
   "cell_type": "code",
   "execution_count": 39,
   "metadata": {},
   "outputs": [
    {
     "data": {
      "text/plain": [
       "GarageFinish  GarageYrBlt     0.999025\n",
       "GarageYrBlt   GarageType      0.998872\n",
       "GarageQual    GarageYrBlt     0.998786\n",
       "GarageCond    GarageYrBlt     0.998732\n",
       "PoolQC        PoolArea        0.990775\n",
       "MiscVal       MiscFeature     0.935741\n",
       "2ndFlrSF      HouseStyle      0.916506\n",
       "FireplaceQu   Fireplaces      0.901204\n",
       "YearBuilt     Neighborhood    0.883812\n",
       "GarageArea    GarageCars      0.882475\n",
       "BldgType      MSSubClass      0.863889\n",
       "BsmtFinSF2    BsmtFinType2    0.838641\n",
       "TotRmsAbvGrd  GrLivArea       0.825489\n",
       "1stFlrSF      TotalBsmtSF     0.819530\n",
       "SalePrice     OverallQual     0.790982\n",
       "KitchenAbvGr  BldgType        0.778076\n",
       "Foundation    YearBuilt       0.761337\n",
       "Exterior2nd   Exterior1st     0.758884\n",
       "BsmtQual      YearBuilt       0.750716\n",
       "SalePrice     Neighborhood    0.738630\n",
       "dtype: float64"
      ]
     },
     "execution_count": 39,
     "metadata": {},
     "output_type": "execute_result"
    }
   ],
   "source": [
    "# Stack the correlation matrix to convert it into a Series\n",
    "stacked_corr = df_corr.stack()\n",
    "\n",
    "# Sort the correlation values in descending order and drop NaN values\n",
    "highest_corr = stacked_corr.sort_values(ascending=False).dropna()\n",
    "\n",
    "# Drop out all values equal to 1 so that not same item correlation happens\n",
    "highest_corr_filtered = highest_corr[(highest_corr != 1)]\n",
    "\n",
    "highest_corr_filtered.head(20)\n",
    "\n"
   ]
  },
  {
   "cell_type": "code",
   "execution_count": 40,
   "metadata": {},
   "outputs": [
    {
     "data": {
      "text/html": [
       "<div>\n",
       "<style scoped>\n",
       "    .dataframe tbody tr th:only-of-type {\n",
       "        vertical-align: middle;\n",
       "    }\n",
       "\n",
       "    .dataframe tbody tr th {\n",
       "        vertical-align: top;\n",
       "    }\n",
       "\n",
       "    .dataframe thead th {\n",
       "        text-align: right;\n",
       "    }\n",
       "</style>\n",
       "<table border=\"1\" class=\"dataframe\">\n",
       "  <thead>\n",
       "    <tr style=\"text-align: right;\">\n",
       "      <th></th>\n",
       "      <th>Id</th>\n",
       "      <th>MSSubClass</th>\n",
       "      <th>MSZoning</th>\n",
       "      <th>LotFrontage</th>\n",
       "      <th>LotArea</th>\n",
       "      <th>Street</th>\n",
       "      <th>Alley</th>\n",
       "      <th>LotShape</th>\n",
       "      <th>LandContour</th>\n",
       "      <th>Utilities</th>\n",
       "      <th>...</th>\n",
       "      <th>PoolArea</th>\n",
       "      <th>PoolQC</th>\n",
       "      <th>Fence</th>\n",
       "      <th>MiscFeature</th>\n",
       "      <th>MiscVal</th>\n",
       "      <th>MoSold</th>\n",
       "      <th>YrSold</th>\n",
       "      <th>SaleType</th>\n",
       "      <th>SaleCondition</th>\n",
       "      <th>SalePrice</th>\n",
       "    </tr>\n",
       "  </thead>\n",
       "  <tbody>\n",
       "    <tr>\n",
       "      <th>Id</th>\n",
       "      <td>1.000000</td>\n",
       "      <td>0.011156</td>\n",
       "      <td>0.053673</td>\n",
       "      <td>-0.019761</td>\n",
       "      <td>-0.033226</td>\n",
       "      <td>0.008916</td>\n",
       "      <td>0.002885</td>\n",
       "      <td>0.062937</td>\n",
       "      <td>0.024296</td>\n",
       "      <td>0.013324</td>\n",
       "      <td>...</td>\n",
       "      <td>0.057044</td>\n",
       "      <td>0.069280</td>\n",
       "      <td>0.024927</td>\n",
       "      <td>0.063398</td>\n",
       "      <td>-0.006242</td>\n",
       "      <td>0.021172</td>\n",
       "      <td>0.000712</td>\n",
       "      <td>0.081004</td>\n",
       "      <td>0.042422</td>\n",
       "      <td>-0.021917</td>\n",
       "    </tr>\n",
       "    <tr>\n",
       "      <th>MSSubClass</th>\n",
       "      <td>0.011156</td>\n",
       "      <td>1.000000</td>\n",
       "      <td>0.349270</td>\n",
       "      <td>-0.215023</td>\n",
       "      <td>-0.139781</td>\n",
       "      <td>0.024969</td>\n",
       "      <td>0.188233</td>\n",
       "      <td>0.123571</td>\n",
       "      <td>0.037980</td>\n",
       "      <td>0.022844</td>\n",
       "      <td>...</td>\n",
       "      <td>0.008283</td>\n",
       "      <td>0.024812</td>\n",
       "      <td>0.119103</td>\n",
       "      <td>0.074159</td>\n",
       "      <td>-0.007683</td>\n",
       "      <td>-0.013585</td>\n",
       "      <td>-0.021407</td>\n",
       "      <td>0.111426</td>\n",
       "      <td>0.060590</td>\n",
       "      <td>-0.084284</td>\n",
       "    </tr>\n",
       "    <tr>\n",
       "      <th>MSZoning</th>\n",
       "      <td>0.053673</td>\n",
       "      <td>0.349270</td>\n",
       "      <td>1.000000</td>\n",
       "      <td>0.134045</td>\n",
       "      <td>0.205819</td>\n",
       "      <td>0.249384</td>\n",
       "      <td>0.388841</td>\n",
       "      <td>0.152191</td>\n",
       "      <td>0.102102</td>\n",
       "      <td>0.000000</td>\n",
       "      <td>...</td>\n",
       "      <td>0.035591</td>\n",
       "      <td>0.000000</td>\n",
       "      <td>0.025450</td>\n",
       "      <td>0.000000</td>\n",
       "      <td>0.022909</td>\n",
       "      <td>0.064259</td>\n",
       "      <td>0.042875</td>\n",
       "      <td>0.150903</td>\n",
       "      <td>0.136065</td>\n",
       "      <td>0.327963</td>\n",
       "    </tr>\n",
       "    <tr>\n",
       "      <th>LotFrontage</th>\n",
       "      <td>-0.019761</td>\n",
       "      <td>-0.215023</td>\n",
       "      <td>0.134045</td>\n",
       "      <td>1.000000</td>\n",
       "      <td>0.100739</td>\n",
       "      <td>0.025107</td>\n",
       "      <td>0.064913</td>\n",
       "      <td>0.190091</td>\n",
       "      <td>0.124251</td>\n",
       "      <td>0.043535</td>\n",
       "      <td>...</td>\n",
       "      <td>0.114106</td>\n",
       "      <td>0.152119</td>\n",
       "      <td>0.019669</td>\n",
       "      <td>0.070336</td>\n",
       "      <td>-0.059606</td>\n",
       "      <td>0.018942</td>\n",
       "      <td>-0.012094</td>\n",
       "      <td>0.190363</td>\n",
       "      <td>0.187632</td>\n",
       "      <td>0.209624</td>\n",
       "    </tr>\n",
       "    <tr>\n",
       "      <th>LotArea</th>\n",
       "      <td>-0.033226</td>\n",
       "      <td>-0.139781</td>\n",
       "      <td>0.205819</td>\n",
       "      <td>0.100739</td>\n",
       "      <td>1.000000</td>\n",
       "      <td>0.197131</td>\n",
       "      <td>0.084230</td>\n",
       "      <td>0.371568</td>\n",
       "      <td>0.375869</td>\n",
       "      <td>0.010123</td>\n",
       "      <td>...</td>\n",
       "      <td>0.077672</td>\n",
       "      <td>0.101577</td>\n",
       "      <td>0.051850</td>\n",
       "      <td>0.112026</td>\n",
       "      <td>0.038068</td>\n",
       "      <td>0.001205</td>\n",
       "      <td>-0.014261</td>\n",
       "      <td>0.031340</td>\n",
       "      <td>0.040402</td>\n",
       "      <td>0.263843</td>\n",
       "    </tr>\n",
       "    <tr>\n",
       "      <th>...</th>\n",
       "      <td>...</td>\n",
       "      <td>...</td>\n",
       "      <td>...</td>\n",
       "      <td>...</td>\n",
       "      <td>...</td>\n",
       "      <td>...</td>\n",
       "      <td>...</td>\n",
       "      <td>...</td>\n",
       "      <td>...</td>\n",
       "      <td>...</td>\n",
       "      <td>...</td>\n",
       "      <td>...</td>\n",
       "      <td>...</td>\n",
       "      <td>...</td>\n",
       "      <td>...</td>\n",
       "      <td>...</td>\n",
       "      <td>...</td>\n",
       "      <td>...</td>\n",
       "      <td>...</td>\n",
       "      <td>...</td>\n",
       "      <td>...</td>\n",
       "    </tr>\n",
       "    <tr>\n",
       "      <th>MoSold</th>\n",
       "      <td>0.021172</td>\n",
       "      <td>-0.013585</td>\n",
       "      <td>0.064259</td>\n",
       "      <td>0.018942</td>\n",
       "      <td>0.001205</td>\n",
       "      <td>0.003690</td>\n",
       "      <td>0.022350</td>\n",
       "      <td>0.033669</td>\n",
       "      <td>0.084457</td>\n",
       "      <td>0.051552</td>\n",
       "      <td>...</td>\n",
       "      <td>-0.033737</td>\n",
       "      <td>0.040255</td>\n",
       "      <td>0.050725</td>\n",
       "      <td>0.026421</td>\n",
       "      <td>-0.006495</td>\n",
       "      <td>1.000000</td>\n",
       "      <td>-0.145721</td>\n",
       "      <td>0.123407</td>\n",
       "      <td>0.096080</td>\n",
       "      <td>0.046432</td>\n",
       "    </tr>\n",
       "    <tr>\n",
       "      <th>YrSold</th>\n",
       "      <td>0.000712</td>\n",
       "      <td>-0.021407</td>\n",
       "      <td>0.042875</td>\n",
       "      <td>-0.012094</td>\n",
       "      <td>-0.014261</td>\n",
       "      <td>0.025043</td>\n",
       "      <td>0.022192</td>\n",
       "      <td>0.045683</td>\n",
       "      <td>0.026413</td>\n",
       "      <td>0.023353</td>\n",
       "      <td>...</td>\n",
       "      <td>-0.059689</td>\n",
       "      <td>0.064768</td>\n",
       "      <td>0.069390</td>\n",
       "      <td>0.087355</td>\n",
       "      <td>0.004906</td>\n",
       "      <td>-0.145721</td>\n",
       "      <td>1.000000</td>\n",
       "      <td>0.156007</td>\n",
       "      <td>0.156572</td>\n",
       "      <td>-0.028923</td>\n",
       "    </tr>\n",
       "    <tr>\n",
       "      <th>SaleType</th>\n",
       "      <td>0.081004</td>\n",
       "      <td>0.111426</td>\n",
       "      <td>0.150903</td>\n",
       "      <td>0.190363</td>\n",
       "      <td>0.031340</td>\n",
       "      <td>0.110886</td>\n",
       "      <td>0.035549</td>\n",
       "      <td>0.000000</td>\n",
       "      <td>0.030262</td>\n",
       "      <td>0.130824</td>\n",
       "      <td>...</td>\n",
       "      <td>0.017377</td>\n",
       "      <td>0.000000</td>\n",
       "      <td>0.056467</td>\n",
       "      <td>0.000000</td>\n",
       "      <td>0.032522</td>\n",
       "      <td>0.123407</td>\n",
       "      <td>0.156007</td>\n",
       "      <td>1.000000</td>\n",
       "      <td>0.470819</td>\n",
       "      <td>0.370523</td>\n",
       "    </tr>\n",
       "    <tr>\n",
       "      <th>SaleCondition</th>\n",
       "      <td>0.042422</td>\n",
       "      <td>0.060590</td>\n",
       "      <td>0.136065</td>\n",
       "      <td>0.187632</td>\n",
       "      <td>0.040402</td>\n",
       "      <td>0.099458</td>\n",
       "      <td>0.064614</td>\n",
       "      <td>0.001923</td>\n",
       "      <td>0.107176</td>\n",
       "      <td>0.076153</td>\n",
       "      <td>...</td>\n",
       "      <td>0.145597</td>\n",
       "      <td>0.111456</td>\n",
       "      <td>0.071734</td>\n",
       "      <td>0.000000</td>\n",
       "      <td>0.037372</td>\n",
       "      <td>0.096080</td>\n",
       "      <td>0.156572</td>\n",
       "      <td>0.470819</td>\n",
       "      <td>1.000000</td>\n",
       "      <td>0.368100</td>\n",
       "    </tr>\n",
       "    <tr>\n",
       "      <th>SalePrice</th>\n",
       "      <td>-0.021917</td>\n",
       "      <td>-0.084284</td>\n",
       "      <td>0.327963</td>\n",
       "      <td>0.209624</td>\n",
       "      <td>0.263843</td>\n",
       "      <td>0.041036</td>\n",
       "      <td>0.142855</td>\n",
       "      <td>0.276362</td>\n",
       "      <td>0.160605</td>\n",
       "      <td>0.014314</td>\n",
       "      <td>...</td>\n",
       "      <td>0.092404</td>\n",
       "      <td>0.145588</td>\n",
       "      <td>0.188719</td>\n",
       "      <td>0.084141</td>\n",
       "      <td>-0.021190</td>\n",
       "      <td>0.046432</td>\n",
       "      <td>-0.028923</td>\n",
       "      <td>0.370523</td>\n",
       "      <td>0.368100</td>\n",
       "      <td>1.000000</td>\n",
       "    </tr>\n",
       "  </tbody>\n",
       "</table>\n",
       "<p>81 rows × 81 columns</p>\n",
       "</div>"
      ],
      "text/plain": [
       "                     Id  MSSubClass  MSZoning  LotFrontage   LotArea  \\\n",
       "Id             1.000000    0.011156  0.053673    -0.019761 -0.033226   \n",
       "MSSubClass     0.011156    1.000000  0.349270    -0.215023 -0.139781   \n",
       "MSZoning       0.053673    0.349270  1.000000     0.134045  0.205819   \n",
       "LotFrontage   -0.019761   -0.215023  0.134045     1.000000  0.100739   \n",
       "LotArea       -0.033226   -0.139781  0.205819     0.100739  1.000000   \n",
       "...                 ...         ...       ...          ...       ...   \n",
       "MoSold         0.021172   -0.013585  0.064259     0.018942  0.001205   \n",
       "YrSold         0.000712   -0.021407  0.042875    -0.012094 -0.014261   \n",
       "SaleType       0.081004    0.111426  0.150903     0.190363  0.031340   \n",
       "SaleCondition  0.042422    0.060590  0.136065     0.187632  0.040402   \n",
       "SalePrice     -0.021917   -0.084284  0.327963     0.209624  0.263843   \n",
       "\n",
       "                 Street     Alley  LotShape  LandContour  Utilities  ...  \\\n",
       "Id             0.008916  0.002885  0.062937     0.024296   0.013324  ...   \n",
       "MSSubClass     0.024969  0.188233  0.123571     0.037980   0.022844  ...   \n",
       "MSZoning       0.249384  0.388841  0.152191     0.102102   0.000000  ...   \n",
       "LotFrontage    0.025107  0.064913  0.190091     0.124251   0.043535  ...   \n",
       "LotArea        0.197131  0.084230  0.371568     0.375869   0.010123  ...   \n",
       "...                 ...       ...       ...          ...        ...  ...   \n",
       "MoSold         0.003690  0.022350  0.033669     0.084457   0.051552  ...   \n",
       "YrSold         0.025043  0.022192  0.045683     0.026413   0.023353  ...   \n",
       "SaleType       0.110886  0.035549  0.000000     0.030262   0.130824  ...   \n",
       "SaleCondition  0.099458  0.064614  0.001923     0.107176   0.076153  ...   \n",
       "SalePrice      0.041036  0.142855  0.276362     0.160605   0.014314  ...   \n",
       "\n",
       "               PoolArea    PoolQC     Fence  MiscFeature   MiscVal    MoSold  \\\n",
       "Id             0.057044  0.069280  0.024927     0.063398 -0.006242  0.021172   \n",
       "MSSubClass     0.008283  0.024812  0.119103     0.074159 -0.007683 -0.013585   \n",
       "MSZoning       0.035591  0.000000  0.025450     0.000000  0.022909  0.064259   \n",
       "LotFrontage    0.114106  0.152119  0.019669     0.070336 -0.059606  0.018942   \n",
       "LotArea        0.077672  0.101577  0.051850     0.112026  0.038068  0.001205   \n",
       "...                 ...       ...       ...          ...       ...       ...   \n",
       "MoSold        -0.033737  0.040255  0.050725     0.026421 -0.006495  1.000000   \n",
       "YrSold        -0.059689  0.064768  0.069390     0.087355  0.004906 -0.145721   \n",
       "SaleType       0.017377  0.000000  0.056467     0.000000  0.032522  0.123407   \n",
       "SaleCondition  0.145597  0.111456  0.071734     0.000000  0.037372  0.096080   \n",
       "SalePrice      0.092404  0.145588  0.188719     0.084141 -0.021190  0.046432   \n",
       "\n",
       "                 YrSold  SaleType  SaleCondition  SalePrice  \n",
       "Id             0.000712  0.081004       0.042422  -0.021917  \n",
       "MSSubClass    -0.021407  0.111426       0.060590  -0.084284  \n",
       "MSZoning       0.042875  0.150903       0.136065   0.327963  \n",
       "LotFrontage   -0.012094  0.190363       0.187632   0.209624  \n",
       "LotArea       -0.014261  0.031340       0.040402   0.263843  \n",
       "...                 ...       ...            ...        ...  \n",
       "MoSold        -0.145721  0.123407       0.096080   0.046432  \n",
       "YrSold         1.000000  0.156007       0.156572  -0.028923  \n",
       "SaleType       0.156007  1.000000       0.470819   0.370523  \n",
       "SaleCondition  0.156572  0.470819       1.000000   0.368100  \n",
       "SalePrice     -0.028923  0.370523       0.368100   1.000000  \n",
       "\n",
       "[81 rows x 81 columns]"
      ]
     },
     "execution_count": 40,
     "metadata": {},
     "output_type": "execute_result"
    }
   ],
   "source": [
    "correlations"
   ]
  },
  {
   "cell_type": "markdown",
   "metadata": {},
   "source": [
    "Correlation in relation to saleprice"
   ]
  },
  {
   "cell_type": "code",
   "execution_count": 41,
   "metadata": {},
   "outputs": [],
   "source": [
    "saleprice_corr = correlations[\"SalePrice\"]"
   ]
  },
  {
   "cell_type": "markdown",
   "metadata": {},
   "source": [
    "Here the correct correlations with only the relation with numerical values"
   ]
  },
  {
   "cell_type": "code",
   "execution_count": 42,
   "metadata": {},
   "outputs": [],
   "source": [
    "corr_matrix = df[num_cols].corr()\n",
    "\n",
    "# Replace diagonal and upper triangular elements with Nan to exlude self correlation\n",
    "df_corr = corr_matrix.where(~np.triu(np.ones(corr_matrix.shape), k=1).astype(bool))"
   ]
  },
  {
   "cell_type": "markdown",
   "metadata": {},
   "source": [
    "Get highly correlated feature pairs"
   ]
  },
  {
   "cell_type": "code",
   "execution_count": 43,
   "metadata": {},
   "outputs": [
    {
     "data": {
      "text/plain": [
       "GarageArea    GarageCars     0.882475\n",
       "GarageYrBlt   YearBuilt      0.825667\n",
       "TotRmsAbvGrd  GrLivArea      0.825489\n",
       "1stFlrSF      TotalBsmtSF    0.819530\n",
       "SalePrice     OverallQual    0.790982\n",
       "dtype: float64"
      ]
     },
     "execution_count": 43,
     "metadata": {},
     "output_type": "execute_result"
    }
   ],
   "source": [
    "# Stack the correlation matrix to convert it into a Series\n",
    "stacked_corr = df_corr.stack()\n",
    "\n",
    "# Sort the correlation values in descending order and drop NaN values\n",
    "highest_corr = stacked_corr.sort_values(ascending=False).dropna()\n",
    "\n",
    "# Drop out all values equal to 1 so that not same item correlation happens\n",
    "highest_corr_filtered = highest_corr[(highest_corr != 1)]\n",
    "\n",
    "highest_corr_filtered.head(5)\n"
   ]
  },
  {
   "cell_type": "code",
   "execution_count": 44,
   "metadata": {},
   "outputs": [
    {
     "data": {
      "application/vnd.plotly.v1+json": {
       "config": {
        "plotlyServerURL": "https://plot.ly"
       },
       "data": [
        {
         "coloraxis": "coloraxis",
         "hovertemplate": "x: %{x}<br>y: %{y}<br>color: %{z}<extra></extra>",
         "name": "0",
         "type": "heatmap",
         "x": [
          "MSSubClass",
          "LotFrontage",
          "LotArea",
          "OverallQual",
          "OverallCond",
          "YearBuilt",
          "YearRemodAdd",
          "MasVnrArea",
          "BsmtFinSF1",
          "BsmtFinSF2",
          "BsmtUnfSF",
          "TotalBsmtSF",
          "1stFlrSF",
          "2ndFlrSF",
          "LowQualFinSF",
          "GrLivArea",
          "BsmtFullBath",
          "BsmtHalfBath",
          "FullBath",
          "HalfBath",
          "BedroomAbvGr",
          "KitchenAbvGr",
          "TotRmsAbvGrd",
          "Fireplaces",
          "GarageYrBlt",
          "GarageCars",
          "GarageArea",
          "WoodDeckSF",
          "OpenPorchSF",
          "EnclosedPorch",
          "3SsnPorch",
          "ScreenPorch",
          "PoolArea",
          "MiscVal",
          "MoSold",
          "YrSold",
          "SalePrice"
         ],
         "xaxis": "x",
         "y": [
          "MSSubClass",
          "LotFrontage",
          "LotArea",
          "OverallQual",
          "OverallCond",
          "YearBuilt",
          "YearRemodAdd",
          "MasVnrArea",
          "BsmtFinSF1",
          "BsmtFinSF2",
          "BsmtUnfSF",
          "TotalBsmtSF",
          "1stFlrSF",
          "2ndFlrSF",
          "LowQualFinSF",
          "GrLivArea",
          "BsmtFullBath",
          "BsmtHalfBath",
          "FullBath",
          "HalfBath",
          "BedroomAbvGr",
          "KitchenAbvGr",
          "TotRmsAbvGrd",
          "Fireplaces",
          "GarageYrBlt",
          "GarageCars",
          "GarageArea",
          "WoodDeckSF",
          "OpenPorchSF",
          "EnclosedPorch",
          "3SsnPorch",
          "ScreenPorch",
          "PoolArea",
          "MiscVal",
          "MoSold",
          "YrSold",
          "SalePrice"
         ],
         "yaxis": "y",
         "z": [
          [
           1,
           null,
           null,
           null,
           null,
           null,
           null,
           null,
           null,
           null,
           null,
           null,
           null,
           null,
           null,
           null,
           null,
           null,
           null,
           null,
           null,
           null,
           null,
           null,
           null,
           null,
           null,
           null,
           null,
           null,
           null,
           null,
           null,
           null,
           null,
           null,
           null
          ],
          [
           -0.3863468853449291,
           1,
           null,
           null,
           null,
           null,
           null,
           null,
           null,
           null,
           null,
           null,
           null,
           null,
           null,
           null,
           null,
           null,
           null,
           null,
           null,
           null,
           null,
           null,
           null,
           null,
           null,
           null,
           null,
           null,
           null,
           null,
           null,
           null,
           null,
           null,
           null
          ],
          [
           -0.13978108172014597,
           0.4260950187718081,
           1,
           null,
           null,
           null,
           null,
           null,
           null,
           null,
           null,
           null,
           null,
           null,
           null,
           null,
           null,
           null,
           null,
           null,
           null,
           null,
           null,
           null,
           null,
           null,
           null,
           null,
           null,
           null,
           null,
           null,
           null,
           null,
           null,
           null,
           null
          ],
          [
           0.032627707521842034,
           0.2516457754806124,
           0.10580574175496422,
           1,
           null,
           null,
           null,
           null,
           null,
           null,
           null,
           null,
           null,
           null,
           null,
           null,
           null,
           null,
           null,
           null,
           null,
           null,
           null,
           null,
           null,
           null,
           null,
           null,
           null,
           null,
           null,
           null,
           null,
           null,
           null,
           null,
           null
          ],
          [
           -0.059315817084104695,
           -0.059213450005246894,
           -0.005636270274099278,
           -0.09193234263907182,
           1,
           null,
           null,
           null,
           null,
           null,
           null,
           null,
           null,
           null,
           null,
           null,
           null,
           null,
           null,
           null,
           null,
           null,
           null,
           null,
           null,
           null,
           null,
           null,
           null,
           null,
           null,
           null,
           null,
           null,
           null,
           null,
           null
          ],
          [
           0.027850136946705798,
           0.12334946703331619,
           0.014227651757025093,
           0.5723227689623621,
           -0.37598319560698945,
           1,
           null,
           null,
           null,
           null,
           null,
           null,
           null,
           null,
           null,
           null,
           null,
           null,
           null,
           null,
           null,
           null,
           null,
           null,
           null,
           null,
           null,
           null,
           null,
           null,
           null,
           null,
           null,
           null,
           null,
           null,
           null
          ],
          [
           0.04058104478406425,
           0.08886557249206646,
           0.013788427078155424,
           0.5506839241941717,
           0.07374149814528905,
           0.5928549763436519,
           1,
           null,
           null,
           null,
           null,
           null,
           null,
           null,
           null,
           null,
           null,
           null,
           null,
           null,
           null,
           null,
           null,
           null,
           null,
           null,
           null,
           null,
           null,
           null,
           null,
           null,
           null,
           null,
           null,
           null,
           null
          ],
          [
           0.022936285894197328,
           0.19345806055826867,
           0.10415982154021264,
           0.4118756672776833,
           -0.1281011991656896,
           0.3157070624361963,
           0.17961837073552223,
           1,
           null,
           null,
           null,
           null,
           null,
           null,
           null,
           null,
           null,
           null,
           null,
           null,
           null,
           null,
           null,
           null,
           null,
           null,
           null,
           null,
           null,
           null,
           null,
           null,
           null,
           null,
           null,
           null,
           null
          ],
          [
           -0.06983574916710049,
           0.233633167019755,
           0.21410313070557713,
           0.23966596617889105,
           -0.04623085591822496,
           0.24950319668479728,
           0.12845054712828866,
           0.2647362647138685,
           1,
           null,
           null,
           null,
           null,
           null,
           null,
           null,
           null,
           null,
           null,
           null,
           null,
           null,
           null,
           null,
           null,
           null,
           null,
           null,
           null,
           null,
           null,
           null,
           null,
           null,
           null,
           null,
           null
          ],
          [
           -0.06564857918852389,
           0.0498996766909894,
           0.11116974549624871,
           -0.05911869267068986,
           0.040229169899767575,
           -0.049106831196239174,
           -0.06775851356598699,
           -0.0723188482033582,
           -0.0501174000471511,
           1,
           null,
           null,
           null,
           null,
           null,
           null,
           null,
           null,
           null,
           null,
           null,
           null,
           null,
           null,
           null,
           null,
           null,
           null,
           null,
           null,
           null,
           null,
           null,
           null,
           null,
           null,
           null
          ],
          [
           -0.14075948083501172,
           0.13264374162493364,
           -0.00261835995009543,
           0.30815892690564284,
           -0.13684056989352233,
           0.14904039195440058,
           0.18113308705016903,
           0.11444206231380821,
           -0.49525146925701125,
           -0.20929449241994497,
           1,
           null,
           null,
           null,
           null,
           null,
           null,
           null,
           null,
           null,
           null,
           null,
           null,
           null,
           null,
           null,
           null,
           null,
           null,
           null,
           null,
           null,
           null,
           null,
           null,
           null,
           null
          ],
          [
           -0.23851840931511895,
           0.3920745763791721,
           0.2608331345451572,
           0.5378084986123907,
           -0.1710975146249218,
           0.3914520020660952,
           0.2910655826041661,
           0.3639362217744723,
           0.5223960519923867,
           0.10480953760636813,
           0.4153596051815893,
           1,
           null,
           null,
           null,
           null,
           null,
           null,
           null,
           null,
           null,
           null,
           null,
           null,
           null,
           null,
           null,
           null,
           null,
           null,
           null,
           null,
           null,
           null,
           null,
           null,
           null
          ],
          [
           -0.25175835187837925,
           0.45718100199465517,
           0.29947457850776266,
           0.4762238290781779,
           -0.1442027840490591,
           0.2819858586998021,
           0.24037926760355463,
           0.3445007468899248,
           0.4458626560920054,
           0.0971174484566702,
           0.3179874383527259,
           0.8195299750050339,
           1,
           null,
           null,
           null,
           null,
           null,
           null,
           null,
           null,
           null,
           null,
           null,
           null,
           null,
           null,
           null,
           null,
           null,
           null,
           null,
           null,
           null,
           null,
           null,
           null
          ],
          [
           0.30788572075985926,
           0.08017727062420475,
           0.05098594829349377,
           0.29549287919970985,
           0.028942115965816882,
           0.010307659584364078,
           0.14002377880486447,
           0.1745614734574279,
           -0.13707898608005356,
           -0.09926031602264425,
           0.004469092144542392,
           -0.17451195013496046,
           -0.20264618100232087,
           1,
           null,
           null,
           null,
           null,
           null,
           null,
           null,
           null,
           null,
           null,
           null,
           null,
           null,
           null,
           null,
           null,
           null,
           null,
           null,
           null,
           null,
           null,
           null
          ],
          [
           0.046473755899517154,
           0.038468534328959476,
           0.004778969866349555,
           -0.030429283979605037,
           0.025494319914213383,
           -0.18378434437372046,
           -0.06241910007833181,
           -0.06907085606589286,
           -0.06450259692146844,
           0.01480699794683367,
           0.028166688132741206,
           -0.0332453873474563,
           -0.014240672666431285,
           0.06335295010932271,
           1,
           null,
           null,
           null,
           null,
           null,
           null,
           null,
           null,
           null,
           null,
           null,
           null,
           null,
           null,
           null,
           null,
           null,
           null,
           null,
           null,
           null,
           null
          ],
          [
           0.0748531796577994,
           0.40279741408531955,
           0.26311616716714803,
           0.5930074300286512,
           -0.07968586538833815,
           0.19900971367645826,
           0.2873885196503327,
           0.39085663973843854,
           0.20817113014532704,
           -0.009639891551805443,
           0.240257268349935,
           0.45486820254790317,
           0.5660239689357486,
           0.6875010641666033,
           0.13468281300660076,
           1,
           null,
           null,
           null,
           null,
           null,
           null,
           null,
           null,
           null,
           null,
           null,
           null,
           null,
           null,
           null,
           null,
           null,
           null,
           null,
           null,
           null
          ],
          [
           0.003491025779044692,
           0.10094856694926875,
           0.15815453106001476,
           0.11109778614230235,
           -0.05494151543295185,
           0.1875985499971434,
           0.11946987911123993,
           0.08530982868972814,
           0.6492117535742649,
           0.15867806078170135,
           -0.42290047738321335,
           0.30735055373550346,
           0.24467110424771052,
           -0.16949395173099896,
           -0.047143421898259166,
           0.03483604954490554,
           1,
           null,
           null,
           null,
           null,
           null,
           null,
           null,
           null,
           null,
           null,
           null,
           null,
           null,
           null,
           null,
           null,
           null,
           null,
           null,
           null
          ],
          [
           -0.0023325345518022773,
           -0.007234304524918128,
           0.04804557088829686,
           -0.04015015766998829,
           0.11782091508139253,
           -0.03816180567123349,
           -0.012337032127797673,
           0.026672828155103145,
           0.06741847791011696,
           0.07094813365590413,
           -0.09580428815248283,
           -0.00031458181983374725,
           0.001955653582048656,
           -0.023854783937045255,
           -0.005841504819311643,
           -0.0189184831706347,
           -0.14787096054760138,
           1,
           null,
           null,
           null,
           null,
           null,
           null,
           null,
           null,
           null,
           null,
           null,
           null,
           null,
           null,
           null,
           null,
           null,
           null,
           null
          ],
          [
           0.13160822241028108,
           0.19876867789737823,
           0.1260306265196436,
           0.5505997093682543,
           -0.1941494887493024,
           0.4682707871726737,
           0.4390464838723479,
           0.27683284723698837,
           0.058543136861595194,
           -0.07644386196518269,
           0.2888860554869108,
           0.3237224136066502,
           0.3806374949735071,
           0.4213779828759713,
           -0.0007095096206731084,
           0.6300116462511148,
           -0.06451204863131507,
           -0.054535811983635524,
           1,
           null,
           null,
           null,
           null,
           null,
           null,
           null,
           null,
           null,
           null,
           null,
           null,
           null,
           null,
           null,
           null,
           null,
           null
          ],
          [
           0.17735438864391687,
           0.05353185497960593,
           0.014259468566431947,
           0.2734580986427702,
           -0.06076932676159483,
           0.2426559102410641,
           0.1833306117185349,
           0.20144394692967832,
           0.004262424384486936,
           -0.032147837468965886,
           -0.04111753014455172,
           -0.04880373863521248,
           -0.11991590879396136,
           0.6097073002717436,
           -0.02708004931716945,
           0.4157716361052652,
           -0.030904959142533293,
           -0.012339900052275487,
           0.13638058874914522,
           1,
           null,
           null,
           null,
           null,
           null,
           null,
           null,
           null,
           null,
           null,
           null,
           null,
           null,
           null,
           null,
           null,
           null
          ],
          [
           -0.02343802846062706,
           0.263169915881059,
           0.11968990815131542,
           0.1016763562417855,
           0.012980060094550628,
           -0.07065121690473103,
           -0.040580928067749454,
           0.10282115127801787,
           -0.10735467682307034,
           -0.015728113626581035,
           0.16664331698696289,
           0.05044995551267818,
           0.12740074939236454,
           0.5029006133459056,
           0.10560656854090526,
           0.5212695109189948,
           -0.15067280920795623,
           0.046518848389950684,
           0.36325198302327694,
           0.22665148415094508,
           1,
           null,
           null,
           null,
           null,
           null,
           null,
           null,
           null,
           null,
           null,
           null,
           null,
           null,
           null,
           null,
           null
          ],
          [
           0.2817210402648814,
           -0.0060688301613090875,
           -0.017783870504841995,
           -0.18388223454922156,
           -0.08700085543638039,
           -0.17480024561497706,
           -0.14959752104274646,
           -0.03761025181986861,
           -0.08100685077857439,
           -0.04075123644840764,
           0.030085868314000126,
           -0.06890064264201659,
           0.06810058817691335,
           0.05930575264821624,
           0.007521744344233734,
           0.10006316473775474,
           -0.041502546431482885,
           -0.03794435022720086,
           0.1331152141960393,
           -0.06826254889694101,
           0.1985967577071338,
           1,
           null,
           null,
           null,
           null,
           null,
           null,
           null,
           null,
           null,
           null,
           null,
           null,
           null,
           null,
           null
          ],
          [
           0.04038006478367613,
           0.3520959476602243,
           0.190014777625409,
           0.42745234327798975,
           -0.057583166112865375,
           0.09558912829795185,
           0.1917398162928069,
           0.2806816946085068,
           0.044315623912920654,
           -0.03522654794752336,
           0.25064706137624926,
           0.28557256372579454,
           0.40951597886683183,
           0.6164226354915431,
           0.13118477598954745,
           0.8254893743088425,
           -0.0532752361233972,
           -0.023836341262220544,
           0.5547842535334836,
           0.3434148575409178,
           0.676619935742649,
           0.2560454085359489,
           1,
           null,
           null,
           null,
           null,
           null,
           null,
           null,
           null,
           null,
           null,
           null,
           null,
           null,
           null
          ],
          [
           -0.04556934027456939,
           0.26663948256030306,
           0.2713640096245418,
           0.39676503795208906,
           -0.02381997776166212,
           0.14771639941245646,
           0.11258131843947561,
           0.24906961283714313,
           0.2600109202350403,
           0.04692070882601213,
           0.0515748822895418,
           0.33951932389865597,
           0.41053108465984556,
           0.19456089224132392,
           -0.02127214341393874,
           0.46167913376144704,
           0.1379277084271981,
           0.028975586646259963,
           0.2436705030799116,
           0.20364850809521917,
           0.10756968099132388,
           -0.12393623529689729,
           0.3261144801772001,
           1,
           null,
           null,
           null,
           null,
           null,
           null,
           null,
           null,
           null,
           null,
           null,
           null,
           null
          ],
          [
           0.08507186950664718,
           0.0702497819166165,
           -0.02494741866564254,
           0.5477658448351629,
           -0.32429673252939795,
           0.8256674841743408,
           0.6422767797035356,
           0.2526907749903342,
           0.1534840980267781,
           -0.08801081541220088,
           0.19070827345893257,
           0.3224451736794739,
           0.23344909271486267,
           0.0708323397173792,
           -0.03636323404234127,
           0.23119674063336224,
           0.12455252442364974,
           -0.07746361238070294,
           0.4845573867195222,
           0.19678517580586272,
           -0.06451843698438452,
           -0.12441140157001684,
           0.1481117155859651,
           0.04682164840190421,
           1,
           null,
           null,
           null,
           null,
           null,
           null,
           null,
           null,
           null,
           null,
           null,
           null
          ],
          [
           -0.040109793135783604,
           0.2856909246851005,
           0.15487073975354076,
           0.6006707165907149,
           -0.18575751057836357,
           0.5378500917111052,
           0.42062215494321714,
           0.3642036400698656,
           0.22405352239399068,
           -0.038263512869251545,
           0.2141751897502169,
           0.43458483429168865,
           0.4393168079906709,
           0.18392558307638002,
           -0.09447952015593257,
           0.4672474187951873,
           0.13188122440619438,
           -0.02089105899687853,
           0.469672043267628,
           0.21917815216716094,
           0.08610643768835287,
           -0.05063389240221729,
           0.3622885708147746,
           0.3007887663013562,
           0.5889200070047002,
           1,
           null,
           null,
           null,
           null,
           null,
           null,
           null,
           null,
           null,
           null,
           null
          ],
          [
           -0.09867154319256435,
           0.3449967241064819,
           0.1804027551511169,
           0.5620217566126083,
           -0.15152137057022985,
           0.4789538198934904,
           0.3715998094973092,
           0.37306648160023664,
           0.2969703853445138,
           -0.018226591907316552,
           0.18330269774258412,
           0.4866654637737961,
           0.4897816541041918,
           0.13834695857186657,
           -0.06760141323952208,
           0.4689974773229655,
           0.179189480420231,
           -0.02453557957887923,
           0.4056562084540099,
           0.1635493640166073,
           0.06525252989881626,
           -0.06443304718314395,
           0.33782212063683786,
           0.2691412380738719,
           0.5645670607230577,
           0.882475414281462,
           1,
           null,
           null,
           null,
           null,
           null,
           null,
           null,
           null,
           null,
           null
          ],
          [
           -0.012579358249219592,
           0.0885209332894081,
           0.17169768725711246,
           0.23892339224918593,
           -0.0033336992893856225,
           0.22488014230399744,
           0.20572592049010355,
           0.15971813436595433,
           0.20430614523740265,
           0.06789832641361218,
           -0.005316424333062066,
           0.23201860912901803,
           0.23545862278369778,
           0.09216541758603868,
           -0.025443647988791077,
           0.24743282051884846,
           0.17531519007972224,
           0.04016122325953452,
           0.18770321383582822,
           0.10808030267536337,
           0.04685377306989394,
           -0.09013027267903444,
           0.16598388371493233,
           0.20001879575902368,
           0.22457699198793213,
           0.2263421384698597,
           0.2246663071787637,
           1,
           null,
           null,
           null,
           null,
           null,
           null,
           null,
           null,
           null
          ],
          [
           -0.006100121231942238,
           0.15197222768060642,
           0.08477380884021642,
           0.3088188233594523,
           -0.03258881352158505,
           0.188685840001731,
           0.22629763268298944,
           0.1257027966825031,
           0.11176061335675101,
           0.003092562209894399,
           0.12900541461542128,
           0.2472637462881078,
           0.2116712254979847,
           0.2080260631813579,
           0.018251039053999052,
           0.33022396171200064,
           0.06734146137698176,
           -0.02532375788905772,
           0.25997742546824865,
           0.19974014751279254,
           0.09380957160591452,
           -0.07009060989258609,
           0.2341915878315988,
           0.16940532713120185,
           0.22842457877198022,
           0.21356944558969115,
           0.2414346721380881,
           0.058660608565887375,
           1,
           null,
           null,
           null,
           null,
           null,
           null,
           null,
           null
          ],
          [
           -0.012036621902094771,
           0.01070033663888244,
           -0.018339733672212328,
           -0.11393685859568162,
           0.07035618448230374,
           -0.3872677829280785,
           -0.1939191470992078,
           -0.11020383387243517,
           -0.10230330550073197,
           0.036543339448210164,
           -0.002537854589751547,
           -0.09547773670640776,
           -0.0652917009103091,
           0.06198869077325203,
           0.06108123777122687,
           0.009113210326003087,
           -0.049910649083753186,
           -0.008555333868578032,
           -0.11509296346134239,
           -0.09531652573608992,
           0.04157043451959824,
           0.03731238503296963,
           0.004151299023856323,
           -0.02482186853706847,
           -0.2970026030557314,
           -0.15143416002683724,
           -0.1217767195610043,
           -0.1259888880376007,
           -0.09307931750864903,
           1,
           null,
           null,
           null,
           null,
           null,
           null,
           null
          ],
          [
           -0.04382454917560846,
           0.07002922773085365,
           0.020422829586133416,
           0.03037056713526452,
           0.025503660024132138,
           0.03135451306436603,
           0.045285809814976964,
           0.018795515294914033,
           0.026450506189898953,
           -0.029993397993921023,
           0.02076400569654798,
           0.03738372726300508,
           0.05610437448487508,
           -0.02435764842204794,
           -0.004295610410300094,
           0.020643189710186576,
           -0.00010609153998400853,
           0.035113630886772336,
           0.03535301658385297,
           -0.0049724884173161,
           -0.02447779636611455,
           -0.024600358690531954,
           -0.006683241010939702,
           0.011257238992774959,
           0.023543689573665077,
           0.035765285146453774,
           0.03508670020815975,
           -0.03277063359357436,
           -0.005842499340135753,
           -0.03730528278804611,
           1,
           null,
           null,
           null,
           null,
           null,
           null
          ],
          [
           -0.026030176699806666,
           0.04138279067500582,
           0.04316037769525204,
           0.06488636049351544,
           0.05481052878611526,
           -0.05036443453861205,
           -0.038740010742610125,
           0.06146554318732188,
           0.06202062266534991,
           0.08887125137339073,
           -0.012579273444256824,
           0.08448898591431157,
           0.08875807262015682,
           0.040606447641001006,
           0.02679941302177244,
           0.10151039568208567,
           0.023147725763573802,
           0.03212140720908338,
           -0.00810609332811188,
           0.0724258451703809,
           0.044299691127134826,
           -0.05161336606147979,
           0.059382599559410935,
           0.18453026951684842,
           -0.07541751376190593,
           0.05049379192719834,
           0.05141176244520852,
           -0.07418135123983237,
           0.07430394385024312,
           -0.08286424483260343,
           -0.03143584703909575,
           1,
           null,
           null,
           null,
           null,
           null
          ],
          [
           0.008282707579624416,
           0.2061667752760768,
           0.07767239188017444,
           0.06516584360589199,
           -0.0019849422681841354,
           0.004949727615942999,
           0.005829372037106204,
           0.01172306121326672,
           0.1404912862549568,
           0.041709054681333575,
           -0.035092240793657914,
           0.12605313210083768,
           0.13152497564028254,
           0.08148687804909954,
           0.06215737226918922,
           0.1702053360005616,
           0.06761555618047507,
           0.02002462983851695,
           0.04960382558403366,
           0.0223814980554099,
           0.07070258356547471,
           -0.014525116015980777,
           0.0837573495149245,
           0.09507352203619863,
           -0.01450067856370222,
           0.020933531041465454,
           0.061047271702060014,
           0.07337820695645396,
           0.060762111489925795,
           0.05420256229213969,
           -0.00799154887286895,
           0.05130739451790554,
           1,
           null,
           null,
           null,
           null
          ],
          [
           -0.007683291329865976,
           0.003367556596191435,
           0.03806769201918336,
           -0.031406210500746504,
           0.0687768060572499,
           -0.03438313873672287,
           -0.010286248783081431,
           -0.02981539358527878,
           0.003571473474954695,
           0.004939781228437705,
           -0.023836645134507763,
           -0.018478922431472124,
           -0.021095719463122223,
           0.016196874604388505,
           -0.003792870779996453,
           -0.0024156395502935623,
           -0.02304702486861695,
           -0.007366524543625446,
           -0.014289844970848111,
           0.0012901448492839542,
           0.007766971998717607,
           0.062340724004379115,
           0.024762884163584138,
           0.0014086054430451757,
           -0.032417457821261826,
           -0.04308012810223063,
           -0.02739991441262488,
           -0.009551228238372468,
           -0.018583738987649336,
           0.018360600139447715,
           0.00035396527793940183,
           0.03194576077490817,
           0.02966865085402175,
           1,
           null,
           null,
           null
          ],
          [
           -0.013584643238322348,
           0.011199954759134238,
           0.0012049882225877268,
           0.07081517178517327,
           -0.003510838599939743,
           0.012398470595440986,
           0.02149000222687611,
           -0.005964715509114298,
           -0.015726948262154667,
           -0.015210737972006668,
           0.03488844300908206,
           0.013196178616778433,
           0.03137156035207926,
           0.035164427361791005,
           -0.02217396057953783,
           0.05023968081827284,
           -0.025360894315259907,
           0.03287270523409066,
           0.055872128991723384,
           -0.009049888212650292,
           0.04654385993628238,
           0.026588907230915452,
           0.036907077159844405,
           0.04635710249771968,
           0.0053370257603695135,
           0.040521730128251755,
           0.02797379982354057,
           0.021011044294297315,
           0.07125488475868938,
           -0.028887265707142493,
           0.02947379524994019,
           0.023216991793307076,
           -0.033736640262791315,
           -0.006494550221282175,
           1,
           null,
           null
          ],
          [
           -0.02140703785109821,
           0.007449589209750463,
           -0.01426140729855021,
           -0.027346708327825386,
           0.043949745692488544,
           -0.01361768000183213,
           0.03574324712127364,
           -0.008201030967080006,
           0.014358922393909302,
           0.03170563698487945,
           -0.04125819493876721,
           -0.014968648018762356,
           -0.01360377050464661,
           -0.02869991393529755,
           -0.028920879782296086,
           -0.03652581962473121,
           0.06704913767140361,
           -0.04652388177400862,
           -0.019668840691520386,
           -0.010268668868105917,
           -0.03601389283370446,
           0.031687206500669154,
           -0.03451635430218269,
           -0.024095564980725313,
           -0.0010142778712734348,
           -0.039116904112831495,
           -0.027377940418545084,
           0.022270451009253036,
           -0.057619360142091326,
           -0.009915936955524396,
           0.01864492540475066,
           0.01069410600377114,
           -0.0596889316752469,
           0.004906262452651876,
           -0.1457214126753949,
           1,
           null
          ],
          [
           -0.08428413512659509,
           0.35179909657067737,
           0.2638433538714051,
           0.7909816005838053,
           -0.07785589404867797,
           0.5228973328794967,
           0.5071009671113866,
           0.47749304709571444,
           0.3864198062421535,
           -0.011378121450215146,
           0.21447910554696928,
           0.6135805515591943,
           0.6058521846919153,
           0.31933380283206736,
           -0.02560613000067955,
           0.7086244776126515,
           0.22712223313149427,
           -0.01684415429735895,
           0.5606637627484453,
           0.28410767559478256,
           0.16821315430073963,
           -0.13590737084214105,
           0.5337231555820284,
           0.46692883675152763,
           0.4863616774878596,
           0.6404091972583519,
           0.6234314389183622,
           0.32441344456812926,
           0.31585622711605504,
           -0.1285779579259566,
           0.04458366533574838,
           0.11144657114291112,
           0.09240354949187318,
           -0.021189579640303213,
           0.046432245223819446,
           -0.028922585168736813,
           1
          ]
         ]
        }
       ],
       "layout": {
        "coloraxis": {
         "colorscale": [
          [
           0,
           "#0d0887"
          ],
          [
           0.1111111111111111,
           "#46039f"
          ],
          [
           0.2222222222222222,
           "#7201a8"
          ],
          [
           0.3333333333333333,
           "#9c179e"
          ],
          [
           0.4444444444444444,
           "#bd3786"
          ],
          [
           0.5555555555555556,
           "#d8576b"
          ],
          [
           0.6666666666666666,
           "#ed7953"
          ],
          [
           0.7777777777777778,
           "#fb9f3a"
          ],
          [
           0.8888888888888888,
           "#fdca26"
          ],
          [
           1,
           "#f0f921"
          ]
         ]
        },
        "margin": {
         "t": 60
        },
        "template": {
         "data": {
          "bar": [
           {
            "error_x": {
             "color": "#2a3f5f"
            },
            "error_y": {
             "color": "#2a3f5f"
            },
            "marker": {
             "line": {
              "color": "#E5ECF6",
              "width": 0.5
             },
             "pattern": {
              "fillmode": "overlay",
              "size": 10,
              "solidity": 0.2
             }
            },
            "type": "bar"
           }
          ],
          "barpolar": [
           {
            "marker": {
             "line": {
              "color": "#E5ECF6",
              "width": 0.5
             },
             "pattern": {
              "fillmode": "overlay",
              "size": 10,
              "solidity": 0.2
             }
            },
            "type": "barpolar"
           }
          ],
          "carpet": [
           {
            "aaxis": {
             "endlinecolor": "#2a3f5f",
             "gridcolor": "white",
             "linecolor": "white",
             "minorgridcolor": "white",
             "startlinecolor": "#2a3f5f"
            },
            "baxis": {
             "endlinecolor": "#2a3f5f",
             "gridcolor": "white",
             "linecolor": "white",
             "minorgridcolor": "white",
             "startlinecolor": "#2a3f5f"
            },
            "type": "carpet"
           }
          ],
          "choropleth": [
           {
            "colorbar": {
             "outlinewidth": 0,
             "ticks": ""
            },
            "type": "choropleth"
           }
          ],
          "contour": [
           {
            "colorbar": {
             "outlinewidth": 0,
             "ticks": ""
            },
            "colorscale": [
             [
              0,
              "#0d0887"
             ],
             [
              0.1111111111111111,
              "#46039f"
             ],
             [
              0.2222222222222222,
              "#7201a8"
             ],
             [
              0.3333333333333333,
              "#9c179e"
             ],
             [
              0.4444444444444444,
              "#bd3786"
             ],
             [
              0.5555555555555556,
              "#d8576b"
             ],
             [
              0.6666666666666666,
              "#ed7953"
             ],
             [
              0.7777777777777778,
              "#fb9f3a"
             ],
             [
              0.8888888888888888,
              "#fdca26"
             ],
             [
              1,
              "#f0f921"
             ]
            ],
            "type": "contour"
           }
          ],
          "contourcarpet": [
           {
            "colorbar": {
             "outlinewidth": 0,
             "ticks": ""
            },
            "type": "contourcarpet"
           }
          ],
          "heatmap": [
           {
            "colorbar": {
             "outlinewidth": 0,
             "ticks": ""
            },
            "colorscale": [
             [
              0,
              "#0d0887"
             ],
             [
              0.1111111111111111,
              "#46039f"
             ],
             [
              0.2222222222222222,
              "#7201a8"
             ],
             [
              0.3333333333333333,
              "#9c179e"
             ],
             [
              0.4444444444444444,
              "#bd3786"
             ],
             [
              0.5555555555555556,
              "#d8576b"
             ],
             [
              0.6666666666666666,
              "#ed7953"
             ],
             [
              0.7777777777777778,
              "#fb9f3a"
             ],
             [
              0.8888888888888888,
              "#fdca26"
             ],
             [
              1,
              "#f0f921"
             ]
            ],
            "type": "heatmap"
           }
          ],
          "heatmapgl": [
           {
            "colorbar": {
             "outlinewidth": 0,
             "ticks": ""
            },
            "colorscale": [
             [
              0,
              "#0d0887"
             ],
             [
              0.1111111111111111,
              "#46039f"
             ],
             [
              0.2222222222222222,
              "#7201a8"
             ],
             [
              0.3333333333333333,
              "#9c179e"
             ],
             [
              0.4444444444444444,
              "#bd3786"
             ],
             [
              0.5555555555555556,
              "#d8576b"
             ],
             [
              0.6666666666666666,
              "#ed7953"
             ],
             [
              0.7777777777777778,
              "#fb9f3a"
             ],
             [
              0.8888888888888888,
              "#fdca26"
             ],
             [
              1,
              "#f0f921"
             ]
            ],
            "type": "heatmapgl"
           }
          ],
          "histogram": [
           {
            "marker": {
             "pattern": {
              "fillmode": "overlay",
              "size": 10,
              "solidity": 0.2
             }
            },
            "type": "histogram"
           }
          ],
          "histogram2d": [
           {
            "colorbar": {
             "outlinewidth": 0,
             "ticks": ""
            },
            "colorscale": [
             [
              0,
              "#0d0887"
             ],
             [
              0.1111111111111111,
              "#46039f"
             ],
             [
              0.2222222222222222,
              "#7201a8"
             ],
             [
              0.3333333333333333,
              "#9c179e"
             ],
             [
              0.4444444444444444,
              "#bd3786"
             ],
             [
              0.5555555555555556,
              "#d8576b"
             ],
             [
              0.6666666666666666,
              "#ed7953"
             ],
             [
              0.7777777777777778,
              "#fb9f3a"
             ],
             [
              0.8888888888888888,
              "#fdca26"
             ],
             [
              1,
              "#f0f921"
             ]
            ],
            "type": "histogram2d"
           }
          ],
          "histogram2dcontour": [
           {
            "colorbar": {
             "outlinewidth": 0,
             "ticks": ""
            },
            "colorscale": [
             [
              0,
              "#0d0887"
             ],
             [
              0.1111111111111111,
              "#46039f"
             ],
             [
              0.2222222222222222,
              "#7201a8"
             ],
             [
              0.3333333333333333,
              "#9c179e"
             ],
             [
              0.4444444444444444,
              "#bd3786"
             ],
             [
              0.5555555555555556,
              "#d8576b"
             ],
             [
              0.6666666666666666,
              "#ed7953"
             ],
             [
              0.7777777777777778,
              "#fb9f3a"
             ],
             [
              0.8888888888888888,
              "#fdca26"
             ],
             [
              1,
              "#f0f921"
             ]
            ],
            "type": "histogram2dcontour"
           }
          ],
          "mesh3d": [
           {
            "colorbar": {
             "outlinewidth": 0,
             "ticks": ""
            },
            "type": "mesh3d"
           }
          ],
          "parcoords": [
           {
            "line": {
             "colorbar": {
              "outlinewidth": 0,
              "ticks": ""
             }
            },
            "type": "parcoords"
           }
          ],
          "pie": [
           {
            "automargin": true,
            "type": "pie"
           }
          ],
          "scatter": [
           {
            "fillpattern": {
             "fillmode": "overlay",
             "size": 10,
             "solidity": 0.2
            },
            "type": "scatter"
           }
          ],
          "scatter3d": [
           {
            "line": {
             "colorbar": {
              "outlinewidth": 0,
              "ticks": ""
             }
            },
            "marker": {
             "colorbar": {
              "outlinewidth": 0,
              "ticks": ""
             }
            },
            "type": "scatter3d"
           }
          ],
          "scattercarpet": [
           {
            "marker": {
             "colorbar": {
              "outlinewidth": 0,
              "ticks": ""
             }
            },
            "type": "scattercarpet"
           }
          ],
          "scattergeo": [
           {
            "marker": {
             "colorbar": {
              "outlinewidth": 0,
              "ticks": ""
             }
            },
            "type": "scattergeo"
           }
          ],
          "scattergl": [
           {
            "marker": {
             "colorbar": {
              "outlinewidth": 0,
              "ticks": ""
             }
            },
            "type": "scattergl"
           }
          ],
          "scattermapbox": [
           {
            "marker": {
             "colorbar": {
              "outlinewidth": 0,
              "ticks": ""
             }
            },
            "type": "scattermapbox"
           }
          ],
          "scatterpolar": [
           {
            "marker": {
             "colorbar": {
              "outlinewidth": 0,
              "ticks": ""
             }
            },
            "type": "scatterpolar"
           }
          ],
          "scatterpolargl": [
           {
            "marker": {
             "colorbar": {
              "outlinewidth": 0,
              "ticks": ""
             }
            },
            "type": "scatterpolargl"
           }
          ],
          "scatterternary": [
           {
            "marker": {
             "colorbar": {
              "outlinewidth": 0,
              "ticks": ""
             }
            },
            "type": "scatterternary"
           }
          ],
          "surface": [
           {
            "colorbar": {
             "outlinewidth": 0,
             "ticks": ""
            },
            "colorscale": [
             [
              0,
              "#0d0887"
             ],
             [
              0.1111111111111111,
              "#46039f"
             ],
             [
              0.2222222222222222,
              "#7201a8"
             ],
             [
              0.3333333333333333,
              "#9c179e"
             ],
             [
              0.4444444444444444,
              "#bd3786"
             ],
             [
              0.5555555555555556,
              "#d8576b"
             ],
             [
              0.6666666666666666,
              "#ed7953"
             ],
             [
              0.7777777777777778,
              "#fb9f3a"
             ],
             [
              0.8888888888888888,
              "#fdca26"
             ],
             [
              1,
              "#f0f921"
             ]
            ],
            "type": "surface"
           }
          ],
          "table": [
           {
            "cells": {
             "fill": {
              "color": "#EBF0F8"
             },
             "line": {
              "color": "white"
             }
            },
            "header": {
             "fill": {
              "color": "#C8D4E3"
             },
             "line": {
              "color": "white"
             }
            },
            "type": "table"
           }
          ]
         },
         "layout": {
          "annotationdefaults": {
           "arrowcolor": "#2a3f5f",
           "arrowhead": 0,
           "arrowwidth": 1
          },
          "autotypenumbers": "strict",
          "coloraxis": {
           "colorbar": {
            "outlinewidth": 0,
            "ticks": ""
           }
          },
          "colorscale": {
           "diverging": [
            [
             0,
             "#8e0152"
            ],
            [
             0.1,
             "#c51b7d"
            ],
            [
             0.2,
             "#de77ae"
            ],
            [
             0.3,
             "#f1b6da"
            ],
            [
             0.4,
             "#fde0ef"
            ],
            [
             0.5,
             "#f7f7f7"
            ],
            [
             0.6,
             "#e6f5d0"
            ],
            [
             0.7,
             "#b8e186"
            ],
            [
             0.8,
             "#7fbc41"
            ],
            [
             0.9,
             "#4d9221"
            ],
            [
             1,
             "#276419"
            ]
           ],
           "sequential": [
            [
             0,
             "#0d0887"
            ],
            [
             0.1111111111111111,
             "#46039f"
            ],
            [
             0.2222222222222222,
             "#7201a8"
            ],
            [
             0.3333333333333333,
             "#9c179e"
            ],
            [
             0.4444444444444444,
             "#bd3786"
            ],
            [
             0.5555555555555556,
             "#d8576b"
            ],
            [
             0.6666666666666666,
             "#ed7953"
            ],
            [
             0.7777777777777778,
             "#fb9f3a"
            ],
            [
             0.8888888888888888,
             "#fdca26"
            ],
            [
             1,
             "#f0f921"
            ]
           ],
           "sequentialminus": [
            [
             0,
             "#0d0887"
            ],
            [
             0.1111111111111111,
             "#46039f"
            ],
            [
             0.2222222222222222,
             "#7201a8"
            ],
            [
             0.3333333333333333,
             "#9c179e"
            ],
            [
             0.4444444444444444,
             "#bd3786"
            ],
            [
             0.5555555555555556,
             "#d8576b"
            ],
            [
             0.6666666666666666,
             "#ed7953"
            ],
            [
             0.7777777777777778,
             "#fb9f3a"
            ],
            [
             0.8888888888888888,
             "#fdca26"
            ],
            [
             1,
             "#f0f921"
            ]
           ]
          },
          "colorway": [
           "#636efa",
           "#EF553B",
           "#00cc96",
           "#ab63fa",
           "#FFA15A",
           "#19d3f3",
           "#FF6692",
           "#B6E880",
           "#FF97FF",
           "#FECB52"
          ],
          "font": {
           "color": "#2a3f5f"
          },
          "geo": {
           "bgcolor": "white",
           "lakecolor": "white",
           "landcolor": "#E5ECF6",
           "showlakes": true,
           "showland": true,
           "subunitcolor": "white"
          },
          "hoverlabel": {
           "align": "left"
          },
          "hovermode": "closest",
          "mapbox": {
           "style": "light"
          },
          "paper_bgcolor": "white",
          "plot_bgcolor": "#E5ECF6",
          "polar": {
           "angularaxis": {
            "gridcolor": "white",
            "linecolor": "white",
            "ticks": ""
           },
           "bgcolor": "#E5ECF6",
           "radialaxis": {
            "gridcolor": "white",
            "linecolor": "white",
            "ticks": ""
           }
          },
          "scene": {
           "xaxis": {
            "backgroundcolor": "#E5ECF6",
            "gridcolor": "white",
            "gridwidth": 2,
            "linecolor": "white",
            "showbackground": true,
            "ticks": "",
            "zerolinecolor": "white"
           },
           "yaxis": {
            "backgroundcolor": "#E5ECF6",
            "gridcolor": "white",
            "gridwidth": 2,
            "linecolor": "white",
            "showbackground": true,
            "ticks": "",
            "zerolinecolor": "white"
           },
           "zaxis": {
            "backgroundcolor": "#E5ECF6",
            "gridcolor": "white",
            "gridwidth": 2,
            "linecolor": "white",
            "showbackground": true,
            "ticks": "",
            "zerolinecolor": "white"
           }
          },
          "shapedefaults": {
           "line": {
            "color": "#2a3f5f"
           }
          },
          "ternary": {
           "aaxis": {
            "gridcolor": "white",
            "linecolor": "white",
            "ticks": ""
           },
           "baxis": {
            "gridcolor": "white",
            "linecolor": "white",
            "ticks": ""
           },
           "bgcolor": "#E5ECF6",
           "caxis": {
            "gridcolor": "white",
            "linecolor": "white",
            "ticks": ""
           }
          },
          "title": {
           "x": 0.05
          },
          "xaxis": {
           "automargin": true,
           "gridcolor": "white",
           "linecolor": "white",
           "ticks": "",
           "title": {
            "standoff": 15
           },
           "zerolinecolor": "white",
           "zerolinewidth": 2
          },
          "yaxis": {
           "automargin": true,
           "gridcolor": "white",
           "linecolor": "white",
           "ticks": "",
           "title": {
            "standoff": 15
           },
           "zerolinecolor": "white",
           "zerolinewidth": 2
          }
         }
        },
        "xaxis": {
         "anchor": "y",
         "constrain": "domain",
         "domain": [
          0,
          1
         ],
         "scaleanchor": "y"
        },
        "yaxis": {
         "anchor": "x",
         "autorange": "reversed",
         "constrain": "domain",
         "domain": [
          0,
          1
         ]
        }
       }
      }
     },
     "metadata": {},
     "output_type": "display_data"
    }
   ],
   "source": [
    "# Plotting a one-sided correlation matrix:\n",
    "fig = px.imshow(df_corr)\n",
    "fig.show()"
   ]
  },
  {
   "cell_type": "code",
   "execution_count": 45,
   "metadata": {},
   "outputs": [],
   "source": [
    "def lowestTargetCorr(val: tuple, corr_matrix: pd.DataFrame, target_column_name: str) -> str:\n",
    "    \"\"\"Finds which value in tuple has highest correlation with target\"\"\"\n",
    "    corr_column1 = abs(corr_matrix.loc[val[0], target_column_name])\n",
    "    corr_column2 = abs(corr_matrix.loc[val[1], target_column_name])\n",
    "\n",
    "    if corr_column1 >= corr_column2:\n",
    "        return val[1]\n",
    "    return val[0]"
   ]
  },
  {
   "cell_type": "markdown",
   "metadata": {},
   "source": [
    "Here we check which col have a high correlation with each other and drops 1 of the columns which has the least correlation with the target of the 2"
   ]
  },
  {
   "cell_type": "code",
   "execution_count": 46,
   "metadata": {},
   "outputs": [
    {
     "name": "stdout",
     "output_type": "stream",
     "text": [
      "[('GarageArea', 'GarageCars'), ('GarageYrBlt', 'YearBuilt'), ('TotRmsAbvGrd', 'GrLivArea'), ('1stFlrSF', 'TotalBsmtSF')]\n",
      "['GarageArea', 'GarageYrBlt', 'TotRmsAbvGrd', '1stFlrSF', 'SalePrice']\n"
     ]
    }
   ],
   "source": [
    "\n",
    "high_corr_names = highest_corr_filtered[highest_corr_filtered > 0.8].index.tolist()\n",
    "\n",
    "print(high_corr_names)\n",
    "\n",
    "# Here we check which value of the 2 most correlated has the lowest correlation with the target\n",
    "removeable_cols = [lowestTargetCorr(pair, df_corr, target_col) for pair in high_corr_names]\n",
    "\n",
    "removeable_cols.append(target_col)\n",
    "\n",
    "print(removeable_cols)"
   ]
  },
  {
   "cell_type": "code",
   "execution_count": 47,
   "metadata": {},
   "outputs": [],
   "source": [
    "# remove the columns with high correlation\n",
    "num_cols = [col for col in num_cols if col not in removeable_cols]\n",
    "\n",
    "all_features = num_cols + cat_cols"
   ]
  },
  {
   "cell_type": "markdown",
   "metadata": {},
   "source": [
    "Building modelling pipeline\n"
   ]
  },
  {
   "cell_type": "code",
   "execution_count": 48,
   "metadata": {},
   "outputs": [
    {
     "data": {
      "text/plain": [
       "75"
      ]
     },
     "execution_count": 48,
     "metadata": {},
     "output_type": "execute_result"
    }
   ],
   "source": []
  },
  {
   "cell_type": "code",
   "execution_count": null,
   "metadata": {},
   "outputs": [],
   "source": []
  }
 ],
 "metadata": {
  "kernelspec": {
   "display_name": ".venv",
   "language": "python",
   "name": "python3"
  },
  "language_info": {
   "codemirror_mode": {
    "name": "ipython",
    "version": 3
   },
   "file_extension": ".py",
   "mimetype": "text/x-python",
   "name": "python",
   "nbconvert_exporter": "python",
   "pygments_lexer": "ipython3",
   "version": "3.12.0"
  }
 },
 "nbformat": 4,
 "nbformat_minor": 2
}
